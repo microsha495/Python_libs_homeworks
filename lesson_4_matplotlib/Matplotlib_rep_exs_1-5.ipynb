{
 "cells": [
  {
   "cell_type": "code",
   "execution_count": 1,
   "id": "0a10a338",
   "metadata": {},
   "outputs": [],
   "source": [
    "import numpy as np"
   ]
  },
  {
   "cell_type": "code",
   "execution_count": 5,
   "id": "ded51e71",
   "metadata": {},
   "outputs": [
    {
     "data": {
      "text/plain": [
       "array([12, 13, 14, 15, 16, 17, 18, 19, 20, 21, 22, 23])"
      ]
     },
     "execution_count": 5,
     "metadata": {},
     "output_type": "execute_result"
    }
   ],
   "source": [
    "a = np.arange(12, 24)\n",
    "a"
   ]
  },
  {
   "cell_type": "markdown",
   "id": "768b6f70",
   "metadata": {},
   "source": [
    "# Задание 2"
   ]
  },
  {
   "cell_type": "code",
   "execution_count": 15,
   "id": "ce6425d6",
   "metadata": {},
   "outputs": [
    {
     "name": "stdout",
     "output_type": "stream",
     "text": [
      "b1:\n",
      " [[12 13 14 15]\n",
      " [16 17 18 19]\n",
      " [20 21 22 23]] \n",
      "\n",
      "b2:\n",
      " [[12 13 14]\n",
      " [15 16 17]\n",
      " [18 19 20]\n",
      " [21 22 23]] \n",
      "\n",
      "b3:\n",
      " [[12 13]\n",
      " [14 15]\n",
      " [16 17]\n",
      " [18 19]\n",
      " [20 21]\n",
      " [22 23]] \n",
      "\n",
      "b4:\n",
      " [[12 13 14 15 16 17]\n",
      " [18 19 20 21 22 23]] \n",
      "\n",
      "b5:\n",
      " [[12]\n",
      " [13]\n",
      " [14]\n",
      " [15]\n",
      " [16]\n",
      " [17]\n",
      " [18]\n",
      " [19]\n",
      " [20]\n",
      " [21]\n",
      " [22]\n",
      " [23]] \n",
      "\n"
     ]
    }
   ],
   "source": [
    "b1 = a.reshape(3, 4)\n",
    "print('b1:\\n', b1, '\\n')\n",
    "\n",
    "b2 = a.reshape(4, 3)\n",
    "print('b2:\\n', b2, '\\n')\n",
    "\n",
    "b3 = a.reshape(6, 2)\n",
    "print('b3:\\n', b3, '\\n')\n",
    "\n",
    "b4 = a.reshape(2, 6)\n",
    "print('b4:\\n', b4, '\\n')\n",
    "\n",
    "b5 = a.reshape(12, 1)\n",
    "print('b5:\\n', b5, '\\n')"
   ]
  },
  {
   "cell_type": "markdown",
   "id": "d5a29757",
   "metadata": {},
   "source": [
    "# Задание 3"
   ]
  },
  {
   "cell_type": "code",
   "execution_count": 16,
   "id": "7aa9d3a2",
   "metadata": {},
   "outputs": [
    {
     "name": "stdout",
     "output_type": "stream",
     "text": [
      "с1:\n",
      " [[12 13 14 15]\n",
      " [16 17 18 19]\n",
      " [20 21 22 23]] \n",
      "\n",
      "с2:\n",
      " [[12 13 14]\n",
      " [15 16 17]\n",
      " [18 19 20]\n",
      " [21 22 23]] \n",
      "\n",
      "с3:\n",
      " [[12 13]\n",
      " [14 15]\n",
      " [16 17]\n",
      " [18 19]\n",
      " [20 21]\n",
      " [22 23]] \n",
      "\n",
      "с4:\n",
      " [[12 13 14 15 16 17]\n",
      " [18 19 20 21 22 23]] \n",
      "\n",
      "с5:\n",
      " [[12]\n",
      " [13]\n",
      " [14]\n",
      " [15]\n",
      " [16]\n",
      " [17]\n",
      " [18]\n",
      " [19]\n",
      " [20]\n",
      " [21]\n",
      " [22]\n",
      " [23]] \n",
      "\n"
     ]
    }
   ],
   "source": [
    "с1 = a.reshape(-1, 4)\n",
    "print('с1:\\n', с1, '\\n')\n",
    "\n",
    "с2 = a.reshape(-1, 3)\n",
    "print('с2:\\n', с2, '\\n')\n",
    "\n",
    "с3 = a.reshape(-1, 2)\n",
    "print('с3:\\n', с3, '\\n')\n",
    "\n",
    "с4 = a.reshape(2, -1)\n",
    "print('с4:\\n', с4, '\\n')\n",
    "\n",
    "с5 = a.reshape(12, -1)\n",
    "print('с5:\\n', с5, '\\n')"
   ]
  },
  {
   "cell_type": "markdown",
   "id": "088aad9d",
   "metadata": {},
   "source": [
    "# Задание 4"
   ]
  },
  {
   "cell_type": "markdown",
   "id": "dd15677d",
   "metadata": {},
   "source": [
    " массив Numpy, состоящий из одного столбца и 12 строк не является одномерным, если каждое значение заключено в [] (по факту является массивом)"
   ]
  },
  {
   "cell_type": "markdown",
   "id": "566f9443",
   "metadata": {},
   "source": [
    "# Задание 5"
   ]
  },
  {
   "cell_type": "code",
   "execution_count": 18,
   "id": "178870f7",
   "metadata": {},
   "outputs": [
    {
     "name": "stdout",
     "output_type": "stream",
     "text": [
      "[[ 1.45872734 -0.40046089 -0.81731578  0.01533941]\n",
      " [-1.22073814  0.26172645  1.32837073  2.50325314]\n",
      " [-0.22784716  0.57899771  0.9990516   0.32788032]]\n"
     ]
    }
   ],
   "source": [
    "d = np.random.randn(3, 4)\n",
    "print(d)"
   ]
  },
  {
   "cell_type": "code",
   "execution_count": 20,
   "id": "ae6b023f",
   "metadata": {},
   "outputs": [
    {
     "name": "stdout",
     "output_type": "stream",
     "text": [
      "[ 1.45872734 -0.40046089 -0.81731578  0.01533941 -1.22073814  0.26172645\n",
      "  1.32837073  2.50325314 -0.22784716  0.57899771  0.9990516   0.32788032]\n"
     ]
    }
   ],
   "source": [
    "e = d.flatten()\n",
    "print(e)"
   ]
  }
 ],
 "metadata": {
  "kernelspec": {
   "display_name": "Python 3 (ipykernel)",
   "language": "python",
   "name": "python3"
  },
  "language_info": {
   "codemirror_mode": {
    "name": "ipython",
    "version": 3
   },
   "file_extension": ".py",
   "mimetype": "text/x-python",
   "name": "python",
   "nbconvert_exporter": "python",
   "pygments_lexer": "ipython3",
   "version": "3.9.13"
  }
 },
 "nbformat": 4,
 "nbformat_minor": 5
}
