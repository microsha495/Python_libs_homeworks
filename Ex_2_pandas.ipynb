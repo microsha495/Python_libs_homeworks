{
 "cells": [
  {
   "cell_type": "code",
   "execution_count": 3,
   "id": "3d6ec3aa",
   "metadata": {},
   "outputs": [],
   "source": [
    "import pandas as pd"
   ]
  },
  {
   "cell_type": "code",
   "execution_count": 4,
   "id": "4743e50f",
   "metadata": {},
   "outputs": [
    {
     "name": "stdout",
     "output_type": "stream",
     "text": [
      "   author_id author_name\n",
      "0          1    Тургенев\n",
      "1          2       Чехов\n",
      "2          3  Островский\n"
     ]
    }
   ],
   "source": [
    "authors = pd.DataFrame({'author_id':[1, 2, 3],\n",
    "                        'author_name': ['Тургенев', 'Чехов', 'Островский']}, columns=['author_id', 'author_name'])\n",
    "print(authors)"
   ]
  },
  {
   "cell_type": "code",
   "execution_count": 6,
   "id": "93e89832",
   "metadata": {},
   "outputs": [
    {
     "name": "stdout",
     "output_type": "stream",
     "text": [
      "   author_id            book_title  price\n",
      "0          1           Отцы и дети    100\n",
      "1          1                 Рудин    200\n",
      "2          1     Дворянское гнездо    150\n",
      "3          2      Толстый и тонкий    300\n",
      "4          2       Дама с собачкой    250\n",
      "5          3                 Гроза    100\n",
      "6          3  Таланты и поклонники     90\n"
     ]
    }
   ],
   "source": [
    "book = pd.DataFrame({'author_id':[1, 1, 1, 2, 2, 3, 3],\n",
    "                    'book_title':['Отцы и дети', 'Рудин', 'Дворянское гнездо', 'Толстый и тонкий', \n",
    "                                  'Дама с собачкой', 'Гроза', 'Таланты и поклонники'],\n",
    "                    'price':[100, 200, 150, 300, 250, 100, 90]}, \n",
    "                    columns=['author_id', 'book_title', 'price'])\n",
    "print(book)"
   ]
  },
  {
   "cell_type": "code",
   "execution_count": 7,
   "id": "d242e9ec",
   "metadata": {},
   "outputs": [
    {
     "name": "stdout",
     "output_type": "stream",
     "text": [
      "   author_id author_name            book_title  price\n",
      "0          1    Тургенев           Отцы и дети    100\n",
      "1          1    Тургенев                 Рудин    200\n",
      "2          1    Тургенев     Дворянское гнездо    150\n",
      "3          2       Чехов      Толстый и тонкий    300\n",
      "4          2       Чехов       Дама с собачкой    250\n",
      "5          3  Островский                 Гроза    100\n",
      "6          3  Островский  Таланты и поклонники     90\n"
     ]
    }
   ],
   "source": [
    "authors_price = pd.merge(authors, book, on = 'author_id', how = 'right')\n",
    "print(authors_price)"
   ]
  }
 ],
 "metadata": {
  "kernelspec": {
   "display_name": "Python 3 (ipykernel)",
   "language": "python",
   "name": "python3"
  },
  "language_info": {
   "codemirror_mode": {
    "name": "ipython",
    "version": 3
   },
   "file_extension": ".py",
   "mimetype": "text/x-python",
   "name": "python",
   "nbconvert_exporter": "python",
   "pygments_lexer": "ipython3",
   "version": "3.9.13"
  }
 },
 "nbformat": 4,
 "nbformat_minor": 5
}
